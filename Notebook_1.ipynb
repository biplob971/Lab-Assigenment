{
  "nbformat": 4,
  "nbformat_minor": 0,
  "metadata": {
    "colab": {
      "name": "Notebook 1 & 2.ipynb",
      "provenance": []
    },
    "kernelspec": {
      "name": "python3",
      "display_name": "Python 3"
    }
  },
  "cells": [
    {
      "cell_type": "markdown",
      "metadata": {
        "id": "zw76L1JZuYz5"
      },
      "source": [
        " # My Python First Program \"Print HeLLo World\""
      ]
    },
    {
      "cell_type": "code",
      "metadata": {
        "colab": {
          "base_uri": "https://localhost:8080/"
        },
        "id": "PHzI3R-gu5GX",
        "outputId": "2e0c1ba2-d611-48ad-ee4c-ef20811d1a7d"
      },
      "source": [
        "print(\"Hello World\")"
      ],
      "execution_count": 1,
      "outputs": [
        {
          "output_type": "stream",
          "text": [
            "Hello World\n"
          ],
          "name": "stdout"
        }
      ]
    },
    {
      "cell_type": "markdown",
      "metadata": {
        "id": "2uuDFUwnvCSR"
      },
      "source": [
        "#Variables and Assignment Statements"
      ]
    },
    {
      "cell_type": "code",
      "metadata": {
        "colab": {
          "base_uri": "https://localhost:8080/"
        },
        "id": "2QD0q4c3vHm1",
        "outputId": "dde9245f-1105-4f43-9c66-dcd5addf9f6a"
      },
      "source": [
        "x=7\r\n",
        "y=3\r\n",
        "print(x+y)"
      ],
      "execution_count": 2,
      "outputs": [
        {
          "output_type": "stream",
          "text": [
            "10\n"
          ],
          "name": "stdout"
        }
      ]
    },
    {
      "cell_type": "code",
      "metadata": {
        "colab": {
          "base_uri": "https://localhost:8080/"
        },
        "id": "JvPSemlUvh8g",
        "outputId": "d15e899d-afeb-4551-a842-6f997acd3511"
      },
      "source": [
        "total=x+y\r\n",
        "print(total)"
      ],
      "execution_count": 3,
      "outputs": [
        {
          "output_type": "stream",
          "text": [
            "10\n"
          ],
          "name": "stdout"
        }
      ]
    },
    {
      "cell_type": "code",
      "metadata": {
        "colab": {
          "base_uri": "https://localhost:8080/"
        },
        "id": "_1JuO47Bvop0",
        "outputId": "e9934625-eff1-4c2f-b82a-66c0d75b95b6"
      },
      "source": [
        "name=\"Biplob\"\r\n",
        "name2=\"Ghosh\"\r\n",
        "print(name,name2)"
      ],
      "execution_count": 5,
      "outputs": [
        {
          "output_type": "stream",
          "text": [
            "Biplob Ghosh\n"
          ],
          "name": "stdout"
        }
      ]
    },
    {
      "cell_type": "markdown",
      "metadata": {
        "id": "Ii7P3NN6v_JA"
      },
      "source": [
        "# Types"
      ]
    },
    {
      "cell_type": "code",
      "metadata": {
        "colab": {
          "base_uri": "https://localhost:8080/"
        },
        "id": "0RDeAruJwDnI",
        "outputId": "293aa745-4e44-4073-d399-123bbbf96fc6"
      },
      "source": [
        "x=29\r\n",
        "type(x)"
      ],
      "execution_count": 7,
      "outputs": [
        {
          "output_type": "execute_result",
          "data": {
            "text/plain": [
              "int"
            ]
          },
          "metadata": {
            "tags": []
          },
          "execution_count": 7
        }
      ]
    },
    {
      "cell_type": "code",
      "metadata": {
        "colab": {
          "base_uri": "https://localhost:8080/"
        },
        "id": "SxuAWz8zwYNh",
        "outputId": "d7cdc023-4845-4fd2-b18a-8d41b1c49449"
      },
      "source": [
        "type(5.5)"
      ],
      "execution_count": 8,
      "outputs": [
        {
          "output_type": "execute_result",
          "data": {
            "text/plain": [
              "float"
            ]
          },
          "metadata": {
            "tags": []
          },
          "execution_count": 8
        }
      ]
    },
    {
      "cell_type": "code",
      "metadata": {
        "colab": {
          "base_uri": "https://localhost:8080/"
        },
        "id": "yrIYBc4CwedN",
        "outputId": "c584cb85-4562-4cb6-bcf3-739ce251b04f"
      },
      "source": [
        "type(name2)"
      ],
      "execution_count": 13,
      "outputs": [
        {
          "output_type": "execute_result",
          "data": {
            "text/plain": [
              "str"
            ]
          },
          "metadata": {
            "tags": []
          },
          "execution_count": 13
        }
      ]
    },
    {
      "cell_type": "markdown",
      "metadata": {
        "id": "odz4UtkdxhBU"
      },
      "source": [
        "#Arithmetic operators\r\n"
      ]
    },
    {
      "cell_type": "code",
      "metadata": {
        "colab": {
          "base_uri": "https://localhost:8080/"
        },
        "id": "veK7TqqUxk4l",
        "outputId": "d60983d2-a6ca-4bbb-fb1f-1951600da7d3"
      },
      "source": [
        "mult=4*4\r\n",
        "print(mult)\r\n"
      ],
      "execution_count": 14,
      "outputs": [
        {
          "output_type": "stream",
          "text": [
            "16\n"
          ],
          "name": "stdout"
        }
      ]
    },
    {
      "cell_type": "code",
      "metadata": {
        "colab": {
          "base_uri": "https://localhost:8080/"
        },
        "id": "cCDU_8h7x9Bl",
        "outputId": "597df665-e4f7-44d5-e8eb-0292363b2825"
      },
      "source": [
        "add=4+4\r\n",
        "print(add)"
      ],
      "execution_count": 15,
      "outputs": [
        {
          "output_type": "stream",
          "text": [
            "8\n"
          ],
          "name": "stdout"
        }
      ]
    },
    {
      "cell_type": "code",
      "metadata": {
        "colab": {
          "base_uri": "https://localhost:8080/"
        },
        "id": "426FgNZTyCn-",
        "outputId": "4ae386e5-d758-4eec-fa05-a68a0114894d"
      },
      "source": [
        "sub = 40-8\r\n",
        "print(sub)"
      ],
      "execution_count": 16,
      "outputs": [
        {
          "output_type": "stream",
          "text": [
            "32\n"
          ],
          "name": "stdout"
        }
      ]
    },
    {
      "cell_type": "code",
      "metadata": {
        "colab": {
          "base_uri": "https://localhost:8080/"
        },
        "id": "3cTulq3TyJZ8",
        "outputId": "8cc375d1-d472-40a7-dace-0482aceab087"
      },
      "source": [
        "Exponentiation = 2**10\r\n",
        "print(Exponentiation)"
      ],
      "execution_count": 17,
      "outputs": [
        {
          "output_type": "stream",
          "text": [
            "1024\n"
          ],
          "name": "stdout"
        }
      ]
    },
    {
      "cell_type": "markdown",
      "metadata": {
        "id": "qV1W4s6tyWdW"
      },
      "source": [
        "#True Division (/) vs. Floor Division (//)"
      ]
    },
    {
      "cell_type": "code",
      "metadata": {
        "colab": {
          "base_uri": "https://localhost:8080/"
        },
        "id": "HDxb4T_iyYGs",
        "outputId": "ae193e77-6c71-4836-e1ca-2a4e7a15ec42"
      },
      "source": [
        "True_Division = 7/4\r\n",
        "print(True_Division)"
      ],
      "execution_count": 18,
      "outputs": [
        {
          "output_type": "stream",
          "text": [
            "1.75\n"
          ],
          "name": "stdout"
        }
      ]
    },
    {
      "cell_type": "code",
      "metadata": {
        "colab": {
          "base_uri": "https://localhost:8080/"
        },
        "id": "c9Ok3SM-ycDO",
        "outputId": "32c9dc26-dcb0-4cc5-c308-e554c3d464c2"
      },
      "source": [
        "Floor_Division = 7//4\r\n",
        "print(Floor_Division)"
      ],
      "execution_count": 19,
      "outputs": [
        {
          "output_type": "stream",
          "text": [
            "1\n"
          ],
          "name": "stdout"
        }
      ]
    },
    {
      "cell_type": "code",
      "metadata": {
        "colab": {
          "base_uri": "https://localhost:8080/"
        },
        "id": "2ifn0SKZyfLX",
        "outputId": "ba6869de-3803-488c-fc39-eb2d8f30ea34"
      },
      "source": [
        "remainder = 15%7\r\n",
        "print(remainder)"
      ],
      "execution_count": 20,
      "outputs": [
        {
          "output_type": "stream",
          "text": [
            "1\n"
          ],
          "name": "stdout"
        }
      ]
    },
    {
      "cell_type": "markdown",
      "metadata": {
        "id": "S_h6G0gTy2pt"
      },
      "source": [
        "# Relational Operators"
      ]
    },
    {
      "cell_type": "code",
      "metadata": {
        "id": "o8lGCW52y6Nh"
      },
      "source": [
        "x = 105\r\n",
        "y = 100"
      ],
      "execution_count": 21,
      "outputs": []
    },
    {
      "cell_type": "code",
      "metadata": {
        "colab": {
          "base_uri": "https://localhost:8080/"
        },
        "id": "agu2gU9tzCWv",
        "outputId": "86a64e93-b85a-4c7d-d39d-b089c2dbbba0"
      },
      "source": [
        "x>y"
      ],
      "execution_count": 22,
      "outputs": [
        {
          "output_type": "execute_result",
          "data": {
            "text/plain": [
              "True"
            ]
          },
          "metadata": {
            "tags": []
          },
          "execution_count": 22
        }
      ]
    },
    {
      "cell_type": "code",
      "metadata": {
        "colab": {
          "base_uri": "https://localhost:8080/"
        },
        "id": "noA4uAxTzFL_",
        "outputId": "ad7aee9f-2f50-4b4d-b113-843a160aff1c"
      },
      "source": [
        "x<y"
      ],
      "execution_count": 23,
      "outputs": [
        {
          "output_type": "execute_result",
          "data": {
            "text/plain": [
              "False"
            ]
          },
          "metadata": {
            "tags": []
          },
          "execution_count": 23
        }
      ]
    },
    {
      "cell_type": "code",
      "metadata": {
        "colab": {
          "base_uri": "https://localhost:8080/"
        },
        "id": "PLjKnc3LzJtE",
        "outputId": "c4a21a96-6cad-4b84-8347-ba4c46bac150"
      },
      "source": [
        "x==y"
      ],
      "execution_count": 24,
      "outputs": [
        {
          "output_type": "execute_result",
          "data": {
            "text/plain": [
              "False"
            ]
          },
          "metadata": {
            "tags": []
          },
          "execution_count": 24
        }
      ]
    },
    {
      "cell_type": "code",
      "metadata": {
        "colab": {
          "base_uri": "https://localhost:8080/"
        },
        "id": "eEXiyC2dzPEd",
        "outputId": "2621efc5-1756-4d7e-9ba8-194a881bf47b"
      },
      "source": [
        "x!=y"
      ],
      "execution_count": 25,
      "outputs": [
        {
          "output_type": "execute_result",
          "data": {
            "text/plain": [
              "True"
            ]
          },
          "metadata": {
            "tags": []
          },
          "execution_count": 25
        }
      ]
    },
    {
      "cell_type": "code",
      "metadata": {
        "colab": {
          "base_uri": "https://localhost:8080/"
        },
        "id": "XbmsUiEVzSoP",
        "outputId": "43a9c4f1-4da4-4fdc-ac77-66d2bb694461"
      },
      "source": [
        "x>=y"
      ],
      "execution_count": 26,
      "outputs": [
        {
          "output_type": "execute_result",
          "data": {
            "text/plain": [
              "True"
            ]
          },
          "metadata": {
            "tags": []
          },
          "execution_count": 26
        }
      ]
    },
    {
      "cell_type": "code",
      "metadata": {
        "colab": {
          "base_uri": "https://localhost:8080/"
        },
        "id": "QJ__tbaHzVp_",
        "outputId": "e7073140-7214-45c6-bb89-1677bbf51464"
      },
      "source": [
        "x<=y"
      ],
      "execution_count": 27,
      "outputs": [
        {
          "output_type": "execute_result",
          "data": {
            "text/plain": [
              "False"
            ]
          },
          "metadata": {
            "tags": []
          },
          "execution_count": 27
        }
      ]
    },
    {
      "cell_type": "markdown",
      "metadata": {
        "id": "xUUXXmFyzYYB"
      },
      "source": [
        "Chaining Comparisons"
      ]
    },
    {
      "cell_type": "code",
      "metadata": {
        "id": "HLJKO6NrzdgC"
      },
      "source": [
        "x = 3\r\n",
        "y = 10"
      ],
      "execution_count": 28,
      "outputs": []
    },
    {
      "cell_type": "code",
      "metadata": {
        "colab": {
          "base_uri": "https://localhost:8080/"
        },
        "id": "KAaKRnamzjXS",
        "outputId": "56840f04-3885-4847-a946-417ac84953ff"
      },
      "source": [
        "1 <= x <= 5"
      ],
      "execution_count": 29,
      "outputs": [
        {
          "output_type": "execute_result",
          "data": {
            "text/plain": [
              "True"
            ]
          },
          "metadata": {
            "tags": []
          },
          "execution_count": 29
        }
      ]
    },
    {
      "cell_type": "code",
      "metadata": {
        "colab": {
          "base_uri": "https://localhost:8080/"
        },
        "id": "gvfTUEfUzr-U",
        "outputId": "9b758537-7cd1-4896-c5ab-906cd3ab4b93"
      },
      "source": [
        "1 <= y <= 5"
      ],
      "execution_count": 30,
      "outputs": [
        {
          "output_type": "execute_result",
          "data": {
            "text/plain": [
              "False"
            ]
          },
          "metadata": {
            "tags": []
          },
          "execution_count": 30
        }
      ]
    }
  ]
}