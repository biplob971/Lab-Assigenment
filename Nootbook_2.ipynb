{
  "nbformat": 4,
  "nbformat_minor": 0,
  "metadata": {
    "colab": {
      "name": "Week_2_Control_structure.ipynb",
      "provenance": []
    },
    "kernelspec": {
      "name": "python3",
      "display_name": "Python 3"
    }
  },
  "cells": [
    {
      "cell_type": "markdown",
      "metadata": {
        "id": "RWwwRU2I2lI7"
      },
      "source": [
        "# **IF statement**\n",
        "\n",
        "---\n",
        "\n"
      ]
    },
    {
      "cell_type": "code",
      "metadata": {
        "id": "a-PKtStV2Nlk",
        "colab": {
          "base_uri": "https://localhost:8080/",
          "height": 34
        },
        "outputId": "70a7ba72-d44d-4332-e14d-f52b9309a083"
      },
      "source": [
        "grade = 85\n",
        "if grade>=60:\n",
        "  print(\"passed\")"
      ],
      "execution_count": null,
      "outputs": [
        {
          "output_type": "stream",
          "text": [
            "passed\n"
          ],
          "name": "stdout"
        }
      ]
    },
    {
      "cell_type": "markdown",
      "metadata": {
        "id": "mY8fFeAL6Ex_"
      },
      "source": [
        "# **If else statement**\n",
        "\n",
        "---\n",
        "\n"
      ]
    },
    {
      "cell_type": "code",
      "metadata": {
        "id": "E7pGGza858UI",
        "colab": {
          "base_uri": "https://localhost:8080/",
          "height": 34
        },
        "outputId": "c7530ca9-2ff5-4f4d-be1b-db08eb6e7e86"
      },
      "source": [
        "grade =85\n",
        "if grade>=60:\n",
        "  print(\"passed\")\n",
        "else:\n",
        "  print(\"fail\")"
      ],
      "execution_count": null,
      "outputs": [
        {
          "output_type": "stream",
          "text": [
            "passed\n"
          ],
          "name": "stdout"
        }
      ]
    },
    {
      "cell_type": "markdown",
      "metadata": {
        "id": "Ly8hCrTx7C5D"
      },
      "source": [
        "***Conditional*** expression"
      ]
    },
    {
      "cell_type": "code",
      "metadata": {
        "id": "qHW3mCaT7KOd"
      },
      "source": [
        "result = ('Passed' if grade >= 60 else 'Failed')"
      ],
      "execution_count": null,
      "outputs": []
    },
    {
      "cell_type": "code",
      "metadata": {
        "id": "D2DzXtzT7OTb",
        "colab": {
          "base_uri": "https://localhost:8080/",
          "height": 34
        },
        "outputId": "faec14f6-653c-414b-858f-57707eb530a5"
      },
      "source": [
        "print(result)"
      ],
      "execution_count": null,
      "outputs": [
        {
          "output_type": "stream",
          "text": [
            "Passed\n"
          ],
          "name": "stdout"
        }
      ]
    },
    {
      "cell_type": "code",
      "metadata": {
        "id": "8pfEXN_M6fJe",
        "colab": {
          "base_uri": "https://localhost:8080/",
          "height": 34
        },
        "outputId": "bd67134b-4154-44e9-f3ee-a801983ccf30"
      },
      "source": [
        "grade = 77\n",
        "\n",
        "if grade >= 90:\n",
        "    print('A')\n",
        "elif grade >= 80:\n",
        "    print('B')\n",
        "elif grade >= 70:\n",
        "    print('C')\n",
        "elif grade >= 60:\n",
        "    print('D')\n",
        "else:\n",
        "    print('F')"
      ],
      "execution_count": null,
      "outputs": [
        {
          "output_type": "stream",
          "text": [
            "C\n"
          ],
          "name": "stdout"
        }
      ]
    },
    {
      "cell_type": "markdown",
      "metadata": {
        "id": "Ge3NK7SC8orQ"
      },
      "source": [
        "# **While Statement**\n",
        "\n",
        "---\n",
        "\n"
      ]
    },
    {
      "cell_type": "code",
      "metadata": {
        "id": "m00-GUff73Lt",
        "colab": {
          "base_uri": "https://localhost:8080/",
          "height": 34
        },
        "outputId": "2aa2efd3-159a-479a-dfb4-dd6f20e9ad92"
      },
      "source": [
        "number = 1\n",
        "\n",
        "while (number<10):\n",
        "  print(number, end=\" \") #print in same line with space using end =\" \"\n",
        "  number+=1"
      ],
      "execution_count": null,
      "outputs": [
        {
          "output_type": "stream",
          "text": [
            "1 2 3 4 5 6 7 8 9 "
          ],
          "name": "stdout"
        }
      ]
    },
    {
      "cell_type": "markdown",
      "metadata": {
        "id": "7SZDrmd_9YL8"
      },
      "source": [
        "*while statement to find the first power of 3 larger than 50:*"
      ]
    },
    {
      "cell_type": "code",
      "metadata": {
        "id": "C2KqW8yC8-j2"
      },
      "source": [
        "product = 3\n",
        "\n",
        "while product<=50:\n",
        "  product = product*3"
      ],
      "execution_count": null,
      "outputs": []
    },
    {
      "cell_type": "code",
      "metadata": {
        "id": "8ktBxeIN9jfR",
        "colab": {
          "base_uri": "https://localhost:8080/",
          "height": 34
        },
        "outputId": "edf7d18f-c103-4099-f13e-08bdeb28e1ff"
      },
      "source": [
        "print(product)"
      ],
      "execution_count": null,
      "outputs": [
        {
          "output_type": "stream",
          "text": [
            "81\n"
          ],
          "name": "stdout"
        }
      ]
    },
    {
      "cell_type": "markdown",
      "metadata": {
        "id": "zI_adojp93oI"
      },
      "source": [
        "# **For statement**\n",
        "\n",
        "---\n",
        "\n"
      ]
    },
    {
      "cell_type": "code",
      "metadata": {
        "id": "EJqNndZI9yzW",
        "colab": {
          "base_uri": "https://localhost:8080/",
          "height": 34
        },
        "outputId": "634130ac-3edc-4c10-b28f-18b08c9ee78d"
      },
      "source": [
        "for character in \"programming\":\n",
        "  print(character, end=\" \")"
      ],
      "execution_count": null,
      "outputs": [
        {
          "output_type": "stream",
          "text": [
            "p r o g r a m m i n g "
          ],
          "name": "stdout"
        }
      ]
    },
    {
      "cell_type": "markdown",
      "metadata": {
        "id": "k1qXd6Ur-eqQ"
      },
      "source": [
        "*Built in Range Function*"
      ]
    },
    {
      "cell_type": "markdown",
      "metadata": {
        "id": "kfTYsLmn-uwj"
      },
      "source": [
        "*Let’s use a for statement and the built-in range function to iterate precisely 10 times, displaying the values from 0 through 9:*"
      ]
    },
    {
      "cell_type": "code",
      "metadata": {
        "id": "Ag7GpFeM-UjP",
        "colab": {
          "base_uri": "https://localhost:8080/",
          "height": 34
        },
        "outputId": "837c5f60-8aee-4950-edfe-f7b933ca55a7"
      },
      "source": [
        "for counter in range(10):\n",
        "  print(counter, end=\" \")"
      ],
      "execution_count": null,
      "outputs": [
        {
          "output_type": "stream",
          "text": [
            "0 1 2 3 4 5 6 7 8 9 "
          ],
          "name": "stdout"
        }
      ]
    },
    {
      "cell_type": "markdown",
      "metadata": {
        "id": "cvPHvYq3_K1s"
      },
      "source": [
        "Use the range function and a for statement to calculate the total of the integers from 0 through 1,000,000.\n"
      ]
    },
    {
      "cell_type": "code",
      "metadata": {
        "id": "9T3eru-p-9Fo",
        "colab": {
          "base_uri": "https://localhost:8080/",
          "height": 34
        },
        "outputId": "6f20c3f1-0e52-4726-e066-407707091e79"
      },
      "source": [
        "total = 0\n",
        "for number in range(1000001):\n",
        "  total = total+number\n",
        "\n",
        "print(total)"
      ],
      "execution_count": null,
      "outputs": [
        {
          "output_type": "stream",
          "text": [
            "500000500000\n"
          ],
          "name": "stdout"
        }
      ]
    },
    {
      "cell_type": "markdown",
      "metadata": {
        "id": "3tsnt0yr_xDt"
      },
      "source": [
        "Function range also has two- and three-argument versions. As you’ve seen, range’s one argument version produces a sequence of consecutive integers from 0 up to, but not including, the argument’s value. Function range’s two-argument version produces a sequence of consecutive integers from its first argument’s value up to, but not including, the second argument’s value, as in:\n"
      ]
    },
    {
      "cell_type": "code",
      "metadata": {
        "id": "sd-DpDDw_g0u",
        "colab": {
          "base_uri": "https://localhost:8080/",
          "height": 34
        },
        "outputId": "fa7fc592-c2c8-4094-8902-db8cd70b469c"
      },
      "source": [
        "for number in range(5,10):\n",
        "  print(number, end=\" \")"
      ],
      "execution_count": null,
      "outputs": [
        {
          "output_type": "stream",
          "text": [
            "5 6 7 8 9 "
          ],
          "name": "stdout"
        }
      ]
    },
    {
      "cell_type": "markdown",
      "metadata": {
        "id": "DdS1ei_OAJfH"
      },
      "source": [
        "Function range’s three-argument version produces a sequence of integers from its first argument’s value up to, but not including, the second argument’s value, incrementing by the third argument’s value, which is known as the step:\n"
      ]
    },
    {
      "cell_type": "code",
      "metadata": {
        "id": "raqcsOM6ABv4",
        "colab": {
          "base_uri": "https://localhost:8080/",
          "height": 34
        },
        "outputId": "3e2926e9-4241-4889-8361-fb8185c7ace1"
      },
      "source": [
        "for number in range(0,10,2):\n",
        "  print(number, end=\" \")"
      ],
      "execution_count": null,
      "outputs": [
        {
          "output_type": "stream",
          "text": [
            "0 2 4 6 8 "
          ],
          "name": "stdout"
        }
      ]
    },
    {
      "cell_type": "markdown",
      "metadata": {
        "id": "4n0Wzf-MA4gL"
      },
      "source": [
        "If the third argument is negative, the sequence progresses from the first argument’s value down to, but not including the second argument’s value, decrementing by the third argument’s value, as in:\n"
      ]
    },
    {
      "cell_type": "code",
      "metadata": {
        "id": "M1KUsCkgAZmv",
        "colab": {
          "base_uri": "https://localhost:8080/",
          "height": 34
        },
        "outputId": "f640ac4e-b7c2-4e1a-c09d-f0726605eea3"
      },
      "source": [
        "for number in range(10,0,-2):\n",
        "  print(number, end=\" \")"
      ],
      "execution_count": null,
      "outputs": [
        {
          "output_type": "stream",
          "text": [
            "10 8 6 4 2 "
          ],
          "name": "stdout"
        }
      ]
    },
    {
      "cell_type": "markdown",
      "metadata": {
        "id": "EV15Fh_tBQbQ"
      },
      "source": [
        "*Number table print using range function*\n",
        "\n",
        "\n",
        "---\n",
        "\n",
        "\n",
        "\n",
        "---\n",
        "\n",
        "\n",
        "\n",
        "Take an input from user and print the number table"
      ]
    },
    {
      "cell_type": "code",
      "metadata": {
        "id": "Ebkd2RrwA-dg",
        "colab": {
          "base_uri": "https://localhost:8080/",
          "height": 34
        },
        "outputId": "c49fd769-15d5-4fed-b468-425d2cf28e6c"
      },
      "source": [
        "number =  int(input())\n"
      ],
      "execution_count": null,
      "outputs": [
        {
          "output_type": "stream",
          "text": [
            "7\n"
          ],
          "name": "stdout"
        }
      ]
    },
    {
      "cell_type": "code",
      "metadata": {
        "id": "hz-bXkJhB6jS",
        "colab": {
          "base_uri": "https://localhost:8080/",
          "height": 187
        },
        "outputId": "5b69fe9c-4753-491e-82c5-681e87f67d88"
      },
      "source": [
        "for i in range(1,11):\n",
        "  print(number,\"X\",i,\"=\",number*i)"
      ],
      "execution_count": null,
      "outputs": [
        {
          "output_type": "stream",
          "text": [
            "7 X 1 = 7\n",
            "7 X 2 = 14\n",
            "7 X 3 = 21\n",
            "7 X 4 = 28\n",
            "7 X 5 = 35\n",
            "7 X 6 = 42\n",
            "7 X 7 = 49\n",
            "7 X 8 = 56\n",
            "7 X 9 = 63\n",
            "7 X 10 = 70\n"
          ],
          "name": "stdout"
        }
      ]
    },
    {
      "cell_type": "markdown",
      "metadata": {
        "id": "PRuD4YmmCMiP"
      },
      "source": [
        "*Nested For Loop*\n",
        "\n",
        "\n",
        "---\n",
        "\n"
      ]
    },
    {
      "cell_type": "code",
      "metadata": {
        "id": "YR2gyY3GCHcP",
        "colab": {
          "base_uri": "https://localhost:8080/",
          "height": 136
        },
        "outputId": "f495fcd1-6195-4eb5-ec97-6ee4902671c7"
      },
      "source": [
        "for left in range(7):\n",
        "    for right in range(left,7):\n",
        "        print(\"[\"+str(left)+\"|\"+str(right)+\"]\", end =\" \")\n",
        "    print()"
      ],
      "execution_count": null,
      "outputs": [
        {
          "output_type": "stream",
          "text": [
            "[0|0] [0|1] [0|2] [0|3] [0|4] [0|5] [0|6] \n",
            "[1|1] [1|2] [1|3] [1|4] [1|5] [1|6] \n",
            "[2|2] [2|3] [2|4] [2|5] [2|6] \n",
            "[3|3] [3|4] [3|5] [3|6] \n",
            "[4|4] [4|5] [4|6] \n",
            "[5|5] [5|6] \n",
            "[6|6] \n"
          ],
          "name": "stdout"
        }
      ]
    },
    {
      "cell_type": "markdown",
      "metadata": {
        "id": "vFfUHE2SCzJA"
      },
      "source": [
        "Break statement"
      ]
    },
    {
      "cell_type": "code",
      "metadata": {
        "id": "382EUWgdCiIH",
        "colab": {
          "base_uri": "https://localhost:8080/",
          "height": 34
        },
        "outputId": "959957ce-92ec-4a69-a236-4cab7da741d6"
      },
      "source": [
        "for number in range(10):\n",
        "  if  number==5:\n",
        "    break\n",
        "  print(number, end=\" \")\n",
        "    "
      ],
      "execution_count": null,
      "outputs": [
        {
          "output_type": "stream",
          "text": [
            "0 1 2 3 4 "
          ],
          "name": "stdout"
        }
      ]
    },
    {
      "cell_type": "markdown",
      "metadata": {
        "id": "sqHMtufsDSbn"
      },
      "source": [
        "Continue statement"
      ]
    },
    {
      "cell_type": "code",
      "metadata": {
        "id": "85e79HleDQaJ",
        "colab": {
          "base_uri": "https://localhost:8080/",
          "height": 34
        },
        "outputId": "2c3b081b-7bcb-417d-f340-a821b009dc4e"
      },
      "source": [
        "for number in range(10):\n",
        "  if  number==5:\n",
        "    continue\n",
        "  print(number, end=\" \")"
      ],
      "execution_count": null,
      "outputs": [
        {
          "output_type": "stream",
          "text": [
            "0 1 2 3 4 6 7 8 9 "
          ],
          "name": "stdout"
        }
      ]
    },
    {
      "cell_type": "code",
      "metadata": {
        "id": "CkJzGaf1DU8X"
      },
      "source": [
        ""
      ],
      "execution_count": null,
      "outputs": []
    },
    {
      "cell_type": "markdown",
      "metadata": {
        "id": "v27XFsCz4OTT"
      },
      "source": [
        "#Extremely Basic"
      ]
    },
    {
      "cell_type": "code",
      "metadata": {
        "id": "x4Ag7MRSFp7T",
        "colab": {
          "base_uri": "https://localhost:8080/"
        },
        "outputId": "9ebbcaab-dde5-4c1f-bb83-0d64a795e35f"
      },
      "source": [
        "a = int(input())\r\n",
        "b = int(input())\r\n",
        "x = a + b\r\n",
        "print(\"X = %i\"% x)"
      ],
      "execution_count": 1,
      "outputs": [
        {
          "output_type": "stream",
          "text": [
            "2\n",
            "3\n",
            "X = 5\n"
          ],
          "name": "stdout"
        }
      ]
    },
    {
      "cell_type": "markdown",
      "metadata": {
        "id": "6deXlFOU4Tgx"
      },
      "source": [
        "#Area of a Circle"
      ]
    },
    {
      "cell_type": "code",
      "metadata": {
        "id": "mw4JtcEu3I2n",
        "outputId": "3ab82f37-586f-41aa-839f-b517918d7b52",
        "colab": {
          "base_uri": "https://localhost:8080/"
        }
      },
      "source": [
        "r = float(input())\r\n",
        "pi = 3.14159\r\n",
        "a = pi * (pow(r,2))\r\n",
        "print(\"A=%.4f\"% a)"
      ],
      "execution_count": 2,
      "outputs": [
        {
          "output_type": "stream",
          "text": [
            "4\n",
            "A=50.2654\n"
          ],
          "name": "stdout"
        }
      ]
    },
    {
      "cell_type": "markdown",
      "metadata": {
        "id": "7o1Cg0au4ZHh"
      },
      "source": [
        "#Difference"
      ]
    },
    {
      "cell_type": "code",
      "metadata": {
        "id": "iW4XJFS73Uw3",
        "outputId": "dcc43342-5bf6-4c6a-d5c6-0ff94f7f93df",
        "colab": {
          "base_uri": "https://localhost:8080/"
        }
      },
      "source": [
        "   a= int(input())\r\n",
        "   b= int(input())\r\n",
        "   c= int(input())\r\n",
        "   d= int(input())\r\n",
        "   difference=((a * b) - (c * d))\r\n",
        "   print(f'DIFERENCA = {difference}')"
      ],
      "execution_count": 9,
      "outputs": [
        {
          "output_type": "stream",
          "text": [
            "3\n",
            "4\n",
            "5\n",
            "3\n",
            "DIFERENCA = -3\n"
          ],
          "name": "stdout"
        }
      ]
    },
    {
      "cell_type": "markdown",
      "metadata": {
        "id": "3JZ9EOs84fUh"
      },
      "source": [
        "#Difference"
      ]
    },
    {
      "cell_type": "code",
      "metadata": {
        "id": "R1gbAnLB3-3c",
        "outputId": "59a0d941-4fc7-46d7-eb27-413042b2a0d5",
        "colab": {
          "base_uri": "https://localhost:8080/"
        }
      },
      "source": [
        "days = int(input())\r\n",
        "\r\n",
        "years = int(days/365)\r\n",
        "days -= years*365\r\n",
        "\r\n",
        "months = int(days/30)\r\n",
        "days -= months*30\r\n",
        "\r\n",
        "print(f'{years} ano(s)')\r\n",
        "print(f'{months} mes(es)')\r\n",
        "print(f'{days} dia(s)')"
      ],
      "execution_count": 11,
      "outputs": [
        {
          "output_type": "stream",
          "text": [
            "55\n",
            "0 ano(s)\n",
            "1 mes(es)\n",
            "25 dia(s)\n"
          ],
          "name": "stdout"
        }
      ]
    }
  ]
}